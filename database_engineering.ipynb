{
 "cells": [
  {
   "cell_type": "markdown",
   "metadata": {},
   "source": [
    "# Database Engineering"
   ]
  },
  {
   "cell_type": "code",
   "execution_count": 26,
   "metadata": {},
   "outputs": [],
   "source": [
    "from os import path, remove\n",
    "from datetime import datetime\n",
    "import pandas as pd\n",
    "from sqlalchemy import (\n",
    "    create_engine, \n",
    "    Column, ForeignKey,\n",
    "    Integer, String, Date, Float)\n",
    "from sqlalchemy.ext.declarative import declarative_base\n",
    "from sqlalchemy.orm import Session\n",
    "\n",
    "_MEASUREMENT_CSV = path.join('Resources', 'cleaned_hawaii_measurements.csv')\n",
    "_STATION_CSV = path.join('Resources', 'hawaii_stations.csv')\n",
    "_SQLITE_FILE = 'hawaii.sqlite'\n",
    "\n",
    "Base = declarative_base()\n",
    "\n",
    "class Station(Base):\n",
    "    __tablename__ = 'station'\n",
    "    station = Column(String, primary_key=True)\n",
    "    name = Column(String)\n",
    "    latitude = Column(Float(asdecimal=True))\n",
    "    longitude = Column(Float(asdecimal=True))\n",
    "    elevation = Column(Float(asdecimal=True))\n",
    "\n",
    "class Measurement(Base):\n",
    "    __tablename__ = 'measurement'\n",
    "    station = Column(String,\n",
    "                     #ForeignKey('station.station'), # Got issue in Base.prepare(engine, reflect=True). Might come back to this\n",
    "                     primary_key=True)\n",
    "    date = Column(Date, primary_key=True)\n",
    "    prcp = Column(Float(asdecimal=True))\n",
    "    tobs = Column(Integer)\n",
    "\n",
    "# Handle removing file independent of OS\n",
    "if path.isfile(_SQLITE_FILE): \n",
    "    remove(_SQLITE_FILE)\n",
    "engine = create_engine(f'sqlite:///{_SQLITE_FILE}')\n",
    "Base.metadata.create_all(engine)\n",
    "\n",
    "# Read data into DataFrames then write into sqlite\n",
    "session = Session(engine)\n",
    "session.add_all([\n",
    "    Station(**s)\n",
    "    for s in pd.read_csv(_STATION_CSV).to_dict(orient='records')\n",
    "] + [\n",
    "    Measurement(**m)\n",
    "    for m in pd.read_csv(_MEASUREMENT_CSV).assign(\n",
    "        date=lambda x: pd.to_datetime(x['date']) # Sqlite requires date type\n",
    "    ).to_dict(orient='records')\n",
    "])\n",
    "session.commit()\n",
    "session.close()"
   ]
  },
  {
   "cell_type": "code",
   "execution_count": null,
   "metadata": {
    "collapsed": true
   },
   "outputs": [],
   "source": []
  }
 ],
 "metadata": {
  "kernelspec": {
   "display_name": "Python 3",
   "language": "python",
   "name": "python3"
  },
  "language_info": {
   "codemirror_mode": {
    "name": "ipython",
    "version": 3
   },
   "file_extension": ".py",
   "mimetype": "text/x-python",
   "name": "python",
   "nbconvert_exporter": "python",
   "pygments_lexer": "ipython3",
   "version": "3.6.3"
  }
 },
 "nbformat": 4,
 "nbformat_minor": 2
}
